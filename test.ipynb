{
 "cells": [
  {
   "cell_type": "code",
   "execution_count": 1,
   "metadata": {},
   "outputs": [],
   "source": [
    "from databricks import sql\n",
    "import os\n",
    "from dotenv import load_dotenv\n",
    "from tabulate import tabulate\n",
    "\n",
    "# Load environment variables from .env\n",
    "load_dotenv()\n",
    "\n",
    "with sql.connect(server_hostname = os.getenv(\"DATABRICKS_HOST\"),\n",
    "                 http_path       = os.getenv(\"DATABRICKS_HTTP_PATH\"),\n",
    "                 access_token    = os.getenv(\"DATABRICKS_TOKEN\")) as connection:\n",
    "\n",
    "  with connection.cursor() as cursor:\n",
    "    cursor.execute(\"SELECT customerName, COUNT(O.orderNumber) as orderNum FROM customers AS C LEFT JOIN orders AS O ON C.customerNumber = O.customerNumber GROUP BY customerName Having customerName is not Null ORDER BY orderNum Desc limit 10\")\n",
    "    result = cursor.fetchall()\n",
    "\n",
    "    # Print the result as a table\n",
    "    headers = [\"Customer Name\", \"Order Number\"]\n",
    "    table = tabulate(result, headers=headers, tablefmt=\"pretty\")\n",
    "    print(table)\n",
    "\n",
    "cursor.close()\n",
    "connection.close()"
   ]
  },
  {
   "cell_type": "code",
   "execution_count": null,
   "metadata": {},
   "outputs": [
    {
     "name": "stdout",
     "output_type": "stream",
     "text": [
      "+------------------------------+--------------+\n",
      "|        Customer Name         | Order Number |\n",
      "+------------------------------+--------------+\n",
      "|    Euro+ Shopping Channel    |      26      |\n",
      "| Mini Gifts Distributors Ltd. |      17      |\n",
      "|   Dragon Souveniers, Ltd.    |      5       |\n",
      "|  Down Under Souveniers, Inc  |      5       |\n",
      "|      Reims Collectables      |      5       |\n",
      "|   Danish Wholesale Imports   |      5       |\n",
      "|  Australian Collectors, Co.  |      5       |\n",
      "|      Land of Toys Inc.       |      4       |\n",
      "|      La Rochelle Gifts       |      4       |\n",
      "|      Kelly's Gift Shop       |      4       |\n",
      "+------------------------------+--------------+\n",
      "Query execution completed.\n",
      "Connection closed.\n"
     ]
    }
   ],
   "source": [
    "def run_query():\n",
    "    try:\n",
    "        # Replace with your environment variables or provide the actual values\n",
    "        server_hostname = os.getenv(\"DATABRICKS_HOST\")\n",
    "        http_path = os.getenv(\"DATABRICKS_HTTP_PATH\")\n",
    "        access_token = os.getenv(\"DATABRICKS_TOKEN\")\n",
    "\n",
    "        # Establish a connection\n",
    "        with sql.connect(\n",
    "            server_hostname=server_hostname,\n",
    "            http_path=http_path,\n",
    "            access_token=access_token\n",
    "        ) as connection:\n",
    "            # Create a cursor\n",
    "            with connection.cursor() as cursor:\n",
    "                # Define the SQL query\n",
    "                sql_query = \"\"\"\n",
    "                SELECT customerName, COUNT(O.orderNumber) as orderNum\n",
    "                FROM customers AS C\n",
    "                LEFT JOIN orders AS O ON C.customerNumber = O.customerNumber\n",
    "                GROUP BY customerName\n",
    "                HAVING customerName IS NOT NULL\n",
    "                ORDER BY orderNum DESC\n",
    "                LIMIT 10\n",
    "                \"\"\"\n",
    "                # Execute the query\n",
    "                cursor.execute(sql_query)\n",
    "\n",
    "                # Fetch the result\n",
    "                result = cursor.fetchall()\n",
    "\n",
    "\n",
    "                # Print the result as a table\n",
    "                headers = [\"Customer Name\", \"Order Number\"]\n",
    "                table = tabulate(result, headers=headers, tablefmt=\"pretty\")\n",
    "                print(table)\n",
    "                print(\"Query execution completed.\")\n",
    "    except Exception as e:\n",
    "        print(f\"Error: {e}\")\n",
    "\n",
    "    finally:\n",
    "        try:\n",
    "            # Close cursor and connection\n",
    "            cursor.close()\n",
    "            connection.close()\n",
    "            print(\"Connection closed.\")\n",
    "        except NameError:\n",
    "            # Handle the case where the cursor or connection was not defined\n",
    "            pass\n",
    "\n",
    "# Call the function\n",
    "run_query()\n"
   ]
  },
  {
   "cell_type": "code",
   "execution_count": null,
   "metadata": {},
   "outputs": [],
   "source": [
    "\n",
    "\n"
   ]
  },
  {
   "cell_type": "code",
   "execution_count": null,
   "metadata": {},
   "outputs": [],
   "source": []
  }
 ],
 "metadata": {
  "kernelspec": {
   "display_name": "Python 3 (ipykernel)",
   "language": "python",
   "name": "python3"
  },
  "language_info": {
   "codemirror_mode": {
    "name": "ipython",
    "version": 3
   },
   "file_extension": ".py",
   "mimetype": "text/x-python",
   "name": "python",
   "nbconvert_exporter": "python",
   "pygments_lexer": "ipython3",
   "version": "3.8.10"
  },
  "orig_nbformat": 4
 },
 "nbformat": 4,
 "nbformat_minor": 2
}
